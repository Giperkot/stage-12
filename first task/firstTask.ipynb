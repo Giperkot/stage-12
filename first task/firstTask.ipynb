{
 "cells": [
  {
   "cell_type": "markdown",
   "metadata": {},
   "source": [
    "Исследование самой высокой Группы покемонов. Тут нужно за join ить таблицы – egg_groups и pokemon.\n",
    "\n",
    "Сгруппировать их по категориям (группам) и посчитать средний рост.\n",
    "\n",
    "После этого построить красивый график."
   ]
  },
  {
   "cell_type": "code",
   "execution_count": 10,
   "metadata": {
    "collapsed": false,
    "scrolled": true
   },
   "outputs": [
    {
     "data": {
      "text/plain": [
       "identifier\n",
       "amorphous      9.363636\n",
       "bug            9.046154\n",
       "ditto          3.000000\n",
       "dragon        12.000000\n",
       "fairy          7.583333\n",
       "flying         9.536585\n",
       "ground        11.093960\n",
       "humanshape    11.888889\n",
       "mineral       13.809524\n",
       "monster       12.462687\n",
       "no-eggs       16.958904\n",
       "plant          9.086957\n",
       "water-1       11.000000\n",
       "water-2       12.400000\n",
       "water-3       10.500000\n",
       "Name: height, dtype: float64"
      ]
     },
     "execution_count": 10,
     "metadata": {},
     "output_type": "execute_result"
    }
   ],
   "source": [
    "#Импортируем библиотеки\n",
    "import pandas as pd;\n",
    "import numpy as np;\n",
    "import matplotlib.pyplot as plt;\n",
    "\n",
    "%matplotlib inline\n",
    "\n",
    "#Читаем таблицы\n",
    "pokemon = pd.read_csv('pokemon.csv');\n",
    "abilities = pd.read_csv('abilities.csv');\n",
    "egg_groups = pd.read_csv('egg_groups.csv');\n",
    "\n",
    "# Берём из таблицы покемонов - нужные столбцы.\n",
    "# Зачем взял поле вес? Просто так.\n",
    "pokemonShort = pokemon[[\"id\", \"name\", \"egg_group1_id\", \"weight\", \"height\"]];\n",
    "\n",
    "# Общая таблица, в которой соеденины таблицы egg_groups и pokemonShort.\n",
    "# Соединение происходит по полям egg_group1_id и id.\n",
    "commonTable = pokemonShort.merge(egg_groups, how='inner', left_on='egg_group1_id', right_on='id');\n",
    "\n",
    "# Группировка по росту и подсчёт среднего.\n",
    "smth = commonTable.groupby([\"identifier\"])[\"height\"].mean();\n",
    "smth"
   ]
  },
  {
   "cell_type": "code",
   "execution_count": 11,
   "metadata": {
    "collapsed": false
   },
   "outputs": [
    {
     "data": {
      "text/plain": [
       "<matplotlib.axes._subplots.AxesSubplot at 0xa455ef0>"
      ]
     },
     "execution_count": 11,
     "metadata": {},
     "output_type": "execute_result"
    },
    {
     "data": {
      "image/png": "[encoded data removed]",
      "text/plain": [
       "<matplotlib.figure.Figure at 0x9340fd0>"
      ]
     },
     "metadata": {},
     "output_type": "display_data"
    }
   ],
   "source": [
    "# строим диограмму\n",
    "smth.plot(kind='bar')\n",
    "#plt.show()"
   ]
  },
  {
   "cell_type": "markdown",
   "metadata": {},
   "source": [
    "# Вывод:"
   ]
  },
  {
   "cell_type": "markdown",
   "metadata": {},
   "source": [
    " Самыми высокими оказались покемоны без группы."
   ]
  }
 ],
 "metadata": {
  "kernelspec": {
   "display_name": "Python 3",
   "language": "python",
   "name": "python3"
  },
  "language_info": {
   "codemirror_mode": {
    "name": "ipython",
    "version": 3
   },
   "file_extension": ".py",
   "mimetype": "text/x-python",
   "name": "python",
   "nbconvert_exporter": "python",
   "pygments_lexer": "ipython3",
   "version": "3.5.1"
  }
 },
 "nbformat": 4,
 "nbformat_minor": 0
}
