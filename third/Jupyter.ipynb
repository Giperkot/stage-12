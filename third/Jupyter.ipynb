{
 "cells": [
  {
   "cell_type": "code",
   "execution_count": 1,
   "metadata": {
    "collapsed": false
   },
   "outputs": [
    {
     "name": "stdout",
     "output_type": "stream",
     "text": [
      "Введите количество шагов:\n",
      "50\n",
      "Ответ:\n",
      "Выживаемость -  0.7506289793189154\n"
     ]
    },
    {
     "data": {
      "image/png": "[encoded data removed]",
      "text/plain": [
       "<matplotlib.figure.Figure at 0x44f3be0>"
      ]
     },
     "metadata": {},
     "output_type": "display_data"
    }
   ],
   "source": [
    "# Нормальное, быстрое решение задачи с графиком выживаемости.\n",
    "# Идея состоит в том, чтобы построить дерево вероятностей.\n",
    "# Каждачя следующая строчка рассчитывается из предудущей.\n",
    "\n",
    "import matplotlib.pyplot as plt;\n",
    "\n",
    "%matplotlib inline\n",
    "\n",
    "result = [];\n",
    "\n",
    "leftShift = 1 / 3;\n",
    "rightShift = 2 / 3;\n",
    "\n",
    "# ввод количества шагов.\n",
    "print(\"Введите количество шагов:\");\n",
    "n = int(input());\n",
    "\n",
    "# Приседания с входными данными.\n",
    "if (n < 2):\n",
    "    print(\"Выживаемость - 1\");\n",
    "    exit(0)\n",
    "\n",
    "if (n < 3):\n",
    "    n = 3;\n",
    "\n",
    "#Инициализация массивов.\n",
    "prevLine = [ 0 for i in range(1, n + 1)];\n",
    "nextLine = [ 0 for i in range(1, n + 1)];\n",
    "\n",
    "prevLine[1] = leftShift;\n",
    "prevLine[2] = rightShift;\n",
    "\n",
    "# Заполнение массивов.\n",
    "i = 1;\n",
    "while (i < n):\n",
    "    j = 0;\n",
    "    while (j < len(prevLine) - 1):\n",
    "        if (i % 2 == 0):\n",
    "            if (j == 0):\n",
    "                nextLine[j] = prevLine[j];\n",
    "                j = j + 1;\n",
    "                continue;\n",
    "\n",
    "            if (j == 1):\n",
    "                nextLine[j] = prevLine[j] * leftShift;\n",
    "                j = j + 1;\n",
    "                continue;\n",
    "\n",
    "            nextLine[j] = prevLine[j - 1] * rightShift + prevLine[j] * leftShift;\n",
    "        else:\n",
    "            if (j == 0):\n",
    "                nextLine[j] = prevLine[j + 1] * leftShift + prevLine[j];\n",
    "                j = j + 1;\n",
    "                continue;\n",
    "\n",
    "            nextLine[j] = prevLine[j + 1] * leftShift + prevLine[j] * rightShift;\n",
    "\n",
    "        j = j + 1;\n",
    "    #print(nextLine);\n",
    "    result.append(1 - nextLine[0]);\n",
    "    prevLine = nextLine[:];\n",
    "\n",
    "    i = i + 1;\n",
    "\n",
    "# Вывод ответа.\n",
    "print(\"Ответ:\");\n",
    "print(\"Выживаемость - \", result[len(result) - 1]);\n",
    "\n",
    "x = [ i for i in range(0, len(result))]\n",
    "plt.plot(x, result);\n",
    "plt.show()"
   ]
  }
 ],
 "metadata": {
  "kernelspec": {
   "display_name": "Python 3",
   "language": "python",
   "name": "python3"
  },
  "language_info": {
   "codemirror_mode": {
    "name": "ipython",
    "version": 3
   },
   "file_extension": ".py",
   "mimetype": "text/x-python",
   "name": "python",
   "nbconvert_exporter": "python",
   "pygments_lexer": "ipython3",
   "version": "3.5.1"
  }
 },
 "nbformat": 4,
 "nbformat_minor": 0
}
