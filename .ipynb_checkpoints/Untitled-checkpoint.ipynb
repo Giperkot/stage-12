{
 "cells": [
  {
   "cell_type": "code",
   "execution_count": 78,
   "metadata": {
    "collapsed": false
   },
   "outputs": [
    {
     "data": {
      "text/plain": [
       "identifier\n",
       "amorphous      9.363636\n",
       "bug            9.046154\n",
       "ditto          3.000000\n",
       "dragon        12.000000\n",
       "fairy          7.583333\n",
       "flying         9.536585\n",
       "ground        11.093960\n",
       "humanshape    11.888889\n",
       "mineral       13.809524\n",
       "monster       12.462687\n",
       "no-eggs       16.958904\n",
       "plant          9.086957\n",
       "water-1       11.000000\n",
       "water-2       12.400000\n",
       "water-3       10.500000\n",
       "Name: height, dtype: float64"
      ]
     },
     "execution_count": 78,
     "metadata": {},
     "output_type": "execute_result"
    }
   ],
   "source": [
    "import pandas as pd\n",
    "import numpy as np\n",
    "import matplotlib.pyplot as plt\n",
    "\n",
    "\n",
    "pokemon = pd.read_csv('pokemon.csv');\n",
    "abilities = pd.read_csv('abilities.csv');\n",
    "egg_groups = pd.read_csv('egg_groups.csv');\n",
    "\n",
    "\n",
    "pokemonShort = pokemon[[\"id\", \"name\", \"egg_group1_id\", \"weight\", \"height\"]];\n",
    "#pokemonShort\n",
    "commonTable = pokemonShort.merge(egg_groups, how='inner', left_on='egg_group1_id', right_on='id')\n",
    "smth = commonTable.groupby([\"identifier\"])[\"height\"].mean();\n",
    "smth\n",
    "\n",
    "\n",
    "#pokemon[\"name\"]"
   ]
  },
  {
   "cell_type": "code",
   "execution_count": 110,
   "metadata": {
    "collapsed": false
   },
   "outputs": [],
   "source": [
    "#np.array(smth)\n",
    "#plt.x();\n",
    "\n",
    "#np.array(smth.keys())\n",
    "\n",
    "#plt.plot(np.array(smth.keys()), np.array(smth))\n",
    "#plt.show()\n",
    "\n",
    "smth.plot(kind='bar')\n",
    "plt.show()"
   ]
  },
  {
   "cell_type": "code",
   "execution_count": 109,
   "metadata": {
    "collapsed": false
   },
   "outputs": [],
   "source": []
  }
 ],
 "metadata": {
  "kernelspec": {
   "display_name": "Python 3",
   "language": "python",
   "name": "python3"
  },
  "language_info": {
   "codemirror_mode": {
    "name": "ipython",
    "version": 3
   },
   "file_extension": ".py",
   "mimetype": "text/x-python",
   "name": "python",
   "nbconvert_exporter": "python",
   "pygments_lexer": "ipython3",
   "version": "3.5.1"
  }
 },
 "nbformat": 4,
 "nbformat_minor": 0
}
